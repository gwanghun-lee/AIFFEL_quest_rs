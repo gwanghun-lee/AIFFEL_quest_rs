{
 "cells": [
  {
   "cell_type": "code",
   "execution_count": null,
   "id": "6e6709de",
   "metadata": {
    "vscode": {
     "languageId": "plaintext"
    }
   },
   "outputs": [],
   "source": [
    "asdf"
   ]
  }
 ],
 "metadata": {
  "language_info": {
   "name": "python"
  }
 },
 "nbformat": 4,
 "nbformat_minor": 5
}
