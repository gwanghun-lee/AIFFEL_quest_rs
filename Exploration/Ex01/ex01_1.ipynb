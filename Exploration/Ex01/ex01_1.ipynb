{
 "cells": [
  {
   "cell_type": "code",
   "execution_count": 8,
   "id": "328c60c5-f769-4e05-85a9-6811bbb5c469",
   "metadata": {},
   "outputs": [],
   "source": [
    "# 데이터 가져오기\n",
    "from sklearn.datasets import load_diabetes\n",
    "data = load_diabetes()\n",
    "df_X = data.data\n",
    "df_y = data.target"
   ]
  },
  {
   "cell_type": "code",
   "execution_count": 9,
   "id": "8257d6d9-9aa3-4a38-9333-5c051b4610fb",
   "metadata": {},
   "outputs": [
    {
     "name": "stdout",
     "output_type": "stream",
     "text": [
      "<class 'numpy.ndarray'> float64\n"
     ]
    }
   ],
   "source": [
    "# 모델에 입력할 x값 생성\n",
    "import numpy as np\n",
    "\n",
    "X = np.array(df_X)\n",
    "\n",
    "print(type(X), X.dtype)"
   ]
  },
  {
   "cell_type": "code",
   "execution_count": 10,
   "id": "897e515d-cb10-45d4-8b1a-fad737935088",
   "metadata": {},
   "outputs": [
    {
     "name": "stdout",
     "output_type": "stream",
     "text": [
      "<class 'numpy.ndarray'> float64\n"
     ]
    }
   ],
   "source": [
    "# 모델에 예측할 y값 준비\n",
    "y = np.array(df_y)\n",
    "\n",
    "print(type(y), y.dtype)"
   ]
  },
  {
   "cell_type": "code",
   "execution_count": 11,
   "id": "f0974cad-8e16-4ddf-9959-6489f41d4914",
   "metadata": {},
   "outputs": [
    {
     "name": "stdout",
     "output_type": "stream",
     "text": [
      "(353, 10) (353,)\n",
      "(89, 10) (89,)\n"
     ]
    }
   ],
   "source": [
    "# X와 y 데이터를 각각 train 데이터와 test 데이터로 분리해주세요. (sklearn 활용)\n",
    "from sklearn.model_selection import train_test_split\n",
    "X_train, X_test, y_train, y_test = train_test_split(\n",
    "    X, y, test_size=0.2, random_state=42\n",
    ")\n",
    "\n",
    "print(X_train.shape, y_train.shape)\n",
    "print(X_test.shape, y_test.shape)"
   ]
  },
  {
   "cell_type": "code",
   "execution_count": 12,
   "id": "6e84e23e-5cbe-4d05-95ef-674c0c3c7d21",
   "metadata": {},
   "outputs": [
    {
     "name": "stdout",
     "output_type": "stream",
     "text": [
      "10\n"
     ]
    }
   ],
   "source": [
    "#입력 데이터 개수에 맞는 가중치 W와 b를 준비해\n",
    "\n",
    "W = np.random.rand(X_train.shape[1])\n",
    "b = np.random.rand()\n",
    "\n",
    "print(len(W))"
   ]
  },
  {
   "cell_type": "code",
   "execution_count": 13,
   "id": "ea257f5e-1729-4655-a31b-34400d48122d",
   "metadata": {},
   "outputs": [],
   "source": [
    "# 모델 함수 정의\n",
    "def model(X, W, b):\n",
    "    predictions = 0\n",
    "    for i in range(len(W)):\n",
    "        predictions += X[:, i] * W[i]\n",
    "    predictions += b\n",
    "    return predictions"
   ]
  },
  {
   "cell_type": "code",
   "execution_count": 14,
   "id": "66c72df1-db09-46c9-8ea3-9efc61123252",
   "metadata": {},
   "outputs": [],
   "source": [
    "# 손실 함수 정의 (mse)\n",
    "def MSE(a, b):\n",
    "    mse = ((a - b) ** 2).mean()  # 두 값의 차이의 제곱의 평균\n",
    "    return mse"
   ]
  },
  {
   "cell_type": "code",
   "execution_count": 15,
   "id": "15552a22-3828-494a-8097-8cc002cc9d66",
   "metadata": {},
   "outputs": [],
   "source": [
    "def loss(X, W, b, y):\n",
    "    predictions = model(X, W, b)\n",
    "    L = MSE(predictions, y)\n",
    "    return L"
   ]
  },
  {
   "cell_type": "code",
   "execution_count": 16,
   "id": "f0ace862-8f8c-4da6-9233-8cc39a9ac056",
   "metadata": {},
   "outputs": [],
   "source": [
    "# 기울기 계산하는 gradient함수 정의\n",
    "def gradient(X, W, b, y):\n",
    "    N = len(y)\n",
    "\n",
    "    y_pred = model(X, W, b)\n",
    "\n",
    "    dW = 1/N * 2 * X.T.dot(y_pred - y)\n",
    "\n",
    "    db = 2 * (y_pred - y).mean()\n",
    "    return dW, db"
   ]
  },
  {
   "cell_type": "code",
   "execution_count": 44,
   "id": "d77b3a0c-ee60-4c08-aa5e-693f234dccd4",
   "metadata": {},
   "outputs": [],
   "source": [
    "# 하이퍼 파라미터 설정\n",
    "LEARNING_RATE = 0.1"
   ]
  },
  {
   "cell_type": "code",
   "execution_count": 45,
   "id": "c88d970f-790a-4f48-9345-28c27ceba3d9",
   "metadata": {},
   "outputs": [
    {
     "name": "stdout",
     "output_type": "stream",
     "text": [
      "Iteration 10000 : Loss 2868.5499\n",
      "Iteration 20000 : Loss 2868.5499\n",
      "Iteration 30000 : Loss 2868.5499\n",
      "Iteration 40000 : Loss 2868.5499\n",
      "Iteration 50000 : Loss 2868.5498\n",
      "Iteration 60000 : Loss 2868.5498\n",
      "Iteration 70000 : Loss 2868.5498\n",
      "Iteration 80000 : Loss 2868.5498\n",
      "Iteration 90000 : Loss 2868.5498\n",
      "Iteration 100000 : Loss 2868.5498\n"
     ]
    }
   ],
   "source": [
    "# 정의된 손실함수와 gradient함수로 모델 학습\n",
    "\n",
    "global W, b\n",
    "\n",
    "losses = []\n",
    "\n",
    "for i in range(1, 100001):\n",
    "    dW, db = gradient(X_train, W, b, y_train)\n",
    "    W -= LEARNING_RATE * dW\n",
    "    b -= LEARNING_RATE * db\n",
    "    L = loss(X_train, W, b, y_train)\n",
    "    losses.append(L)\n",
    "    if i % 10000 == 0:\n",
    "        print('Iteration %d : Loss %0.4f' % (i, L))"
   ]
  },
  {
   "cell_type": "code",
   "execution_count": 36,
   "id": "a244301f-2d2b-49ae-854e-955af67b55a8",
   "metadata": {},
   "outputs": [
    {
     "data": {
      "text/plain": [
       "np.float64(2889.9788028092794)"
      ]
     },
     "execution_count": 36,
     "metadata": {},
     "output_type": "execute_result"
    }
   ],
   "source": [
    "# test 데이터에 대한 성능을 확인\n",
    "prediction = model(X_test, W, b)\n",
    "mse = loss(X_test, W, b, y_test)\n",
    "mse"
   ]
  },
  {
   "cell_type": "code",
   "execution_count": 37,
   "id": "710aa1af-c51e-4167-9497-c2c45419f92b",
   "metadata": {},
   "outputs": [
    {
     "data": {
      "image/png": "[encoded data removed]",
      "text/plain": [
       "<Figure size 640x480 with 1 Axes>"
      ]
     },
     "metadata": {},
     "output_type": "display_data"
    }
   ],
   "source": [
    "# 시각화\n",
    "import matplotlib.pyplot as plt\n",
    "\n",
    "plt.scatter(X_test[:, 0], y_test)\n",
    "plt.scatter(X_test[:, 0], prediction)\n",
    "plt.show()"
   ]
  },
  {
   "cell_type": "code",
   "execution_count": null,
   "id": "c6d444b2-b724-463b-a430-4d286b73948a",
   "metadata": {},
   "outputs": [],
   "source": []
  }
 ],
 "metadata": {
  "kernelspec": {
   "display_name": "Python 3 (ipykernel)",
   "language": "python",
   "name": "python3"
  },
  "language_info": {
   "codemirror_mode": {
    "name": "ipython",
    "version": 3
   },
   "file_extension": ".py",
   "mimetype": "text/x-python",
   "name": "python",
   "nbconvert_exporter": "python",
   "pygments_lexer": "ipython3",
   "version": "3.12.11"
  }
 },
 "nbformat": 4,
 "nbformat_minor": 5
}
